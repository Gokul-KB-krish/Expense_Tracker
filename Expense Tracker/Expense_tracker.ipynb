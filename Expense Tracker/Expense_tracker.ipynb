{
 "cells": [
  {
   "cell_type": "markdown",
   "metadata": {},
   "source": [
    "Importing libraries"
   ]
  },
  {
   "cell_type": "code",
   "execution_count": 1,
   "metadata": {},
   "outputs": [],
   "source": [
    "from faker import Faker\n",
    "import pandas as pd\n",
    "import random"
   ]
  },
  {
   "cell_type": "markdown",
   "metadata": {},
   "source": [
    "Defining categories and payment type"
   ]
  },
  {
   "cell_type": "code",
   "execution_count": 2,
   "metadata": {},
   "outputs": [],
   "source": [
    "categories = ['Food', 'Transportation', 'Bills', 'Groceries', 'Entertainment', 'Gifts', 'Subscriptions']\n",
    "payment_modes = ['Cash', 'Credit Card', 'Debit Card', 'UPI', 'Wallet']"
   ]
  },
  {
   "cell_type": "markdown",
   "metadata": {},
   "source": [
    "Generating data from facker"
   ]
  },
  {
   "cell_type": "code",
   "execution_count": null,
   "metadata": {},
   "outputs": [],
   "source": [
    "fake = Faker()\n",
    "data=[]\n",
    "def generate_data(month,year):\n",
    "    for _ in range(150):  # Generate 100 transactions per month\n",
    "       date = fake.date_between_dates(\n",
    "           date_start=pd.Timestamp(f'{year}-{month:02d}-01'),\n",
    "           date_end=pd.Timestamp(f'{year}-{month:02d}-28')\n",
    "       )\n",
    "       category = random.choice(categories)\n",
    "       payment_mode = random.choice(payment_modes)\n",
    "       description = fake.text(max_nb_chars=20)\n",
    "       amount = round(random.uniform(100, 5000), 2)\n",
    "       cashback = round(amount * random.uniform(0, 0.1), 2) if random.random() > 0.8 else 0\n",
    "       data.append([date, category, payment_mode, description, amount, cashback])\n",
    "    return pd.DataFrame(data, columns=['Date', 'Category', 'Payment Mode', 'Description', 'Amount Paid', 'Cashback'])"
   ]
  },
  {
   "cell_type": "code",
   "execution_count": 10,
   "metadata": {},
   "outputs": [
    {
     "name": "stdout",
     "output_type": "stream",
     "text": [
      "           Date        Category Payment Mode          Description  \\\n",
      "0    2024-01-24           Bills         Cash  Magazine wall role.   \n",
      "1    2024-01-19            Food       Wallet       Whether first.   \n",
      "2    2024-01-08   Subscriptions         Cash  Ok result everyone.   \n",
      "3    2024-01-06           Gifts   Debit Card    Well decade fish.   \n",
      "4    2024-01-24           Gifts  Credit Card   Hold finish speak.   \n",
      "..          ...             ...          ...                  ...   \n",
      "195  2024-01-02           Gifts   Debit Card      Discussion pay.   \n",
      "196  2024-01-01           Bills   Debit Card       Certainly car.   \n",
      "197  2024-01-27   Subscriptions  Credit Card     Site democratic.   \n",
      "198  2024-01-09  Transportation  Credit Card     Woman newspaper.   \n",
      "199  2024-01-06           Gifts          UPI      Meeting matter.   \n",
      "\n",
      "     Amount Paid  Cashback  \n",
      "0        1738.31       0.0  \n",
      "1        4377.10       0.0  \n",
      "2        3159.54       0.0  \n",
      "3        2312.49       0.0  \n",
      "4        1021.79       0.0  \n",
      "..           ...       ...  \n",
      "195       377.15       0.0  \n",
      "196      2024.07       0.0  \n",
      "197      4336.68       0.0  \n",
      "198       533.10       0.0  \n",
      "199      4753.65       0.0  \n",
      "\n",
      "[200 rows x 6 columns]\n"
     ]
    }
   ],
   "source": [
    "print(generate_data(1,2024))"
   ]
  },
  {
   "cell_type": "markdown",
   "metadata": {},
   "source": [
    "Generating data for January to December"
   ]
  },
  {
   "cell_type": "code",
   "execution_count": 14,
   "metadata": {},
   "outputs": [],
   "source": [
    "complete_data=[]\n",
    "for month in range(1,13):\n",
    "    df=generate_data(month, 2024)\n",
    "    complete_data.append(df)\n",
    "overall_data=pd.concat(complete_data)\n",
    "    \n"
   ]
  },
  {
   "cell_type": "code",
   "execution_count": 17,
   "metadata": {},
   "outputs": [
    {
     "data": {
      "text/html": [
       "<div>\n",
       "<style scoped>\n",
       "    .dataframe tbody tr th:only-of-type {\n",
       "        vertical-align: middle;\n",
       "    }\n",
       "\n",
       "    .dataframe tbody tr th {\n",
       "        vertical-align: top;\n",
       "    }\n",
       "\n",
       "    .dataframe thead th {\n",
       "        text-align: right;\n",
       "    }\n",
       "</style>\n",
       "<table border=\"1\" class=\"dataframe\">\n",
       "  <thead>\n",
       "    <tr style=\"text-align: right;\">\n",
       "      <th></th>\n",
       "      <th>Date</th>\n",
       "      <th>Category</th>\n",
       "      <th>Payment Mode</th>\n",
       "      <th>Description</th>\n",
       "      <th>Amount Paid</th>\n",
       "      <th>Cashback</th>\n",
       "    </tr>\n",
       "  </thead>\n",
       "  <tbody>\n",
       "    <tr>\n",
       "      <th>0</th>\n",
       "      <td>2024-01-24</td>\n",
       "      <td>Bills</td>\n",
       "      <td>Cash</td>\n",
       "      <td>Magazine wall role.</td>\n",
       "      <td>1738.31</td>\n",
       "      <td>0.00</td>\n",
       "    </tr>\n",
       "    <tr>\n",
       "      <th>1</th>\n",
       "      <td>2024-01-19</td>\n",
       "      <td>Food</td>\n",
       "      <td>Wallet</td>\n",
       "      <td>Whether first.</td>\n",
       "      <td>4377.10</td>\n",
       "      <td>0.00</td>\n",
       "    </tr>\n",
       "    <tr>\n",
       "      <th>2</th>\n",
       "      <td>2024-01-08</td>\n",
       "      <td>Subscriptions</td>\n",
       "      <td>Cash</td>\n",
       "      <td>Ok result everyone.</td>\n",
       "      <td>3159.54</td>\n",
       "      <td>0.00</td>\n",
       "    </tr>\n",
       "    <tr>\n",
       "      <th>3</th>\n",
       "      <td>2024-01-06</td>\n",
       "      <td>Gifts</td>\n",
       "      <td>Debit Card</td>\n",
       "      <td>Well decade fish.</td>\n",
       "      <td>2312.49</td>\n",
       "      <td>0.00</td>\n",
       "    </tr>\n",
       "    <tr>\n",
       "      <th>4</th>\n",
       "      <td>2024-01-24</td>\n",
       "      <td>Gifts</td>\n",
       "      <td>Credit Card</td>\n",
       "      <td>Hold finish speak.</td>\n",
       "      <td>1021.79</td>\n",
       "      <td>0.00</td>\n",
       "    </tr>\n",
       "    <tr>\n",
       "      <th>...</th>\n",
       "      <td>...</td>\n",
       "      <td>...</td>\n",
       "      <td>...</td>\n",
       "      <td>...</td>\n",
       "      <td>...</td>\n",
       "      <td>...</td>\n",
       "    </tr>\n",
       "    <tr>\n",
       "      <th>2595</th>\n",
       "      <td>2024-12-19</td>\n",
       "      <td>Groceries</td>\n",
       "      <td>Credit Card</td>\n",
       "      <td>Stand color hotel.</td>\n",
       "      <td>2272.34</td>\n",
       "      <td>0.00</td>\n",
       "    </tr>\n",
       "    <tr>\n",
       "      <th>2596</th>\n",
       "      <td>2024-12-19</td>\n",
       "      <td>Entertainment</td>\n",
       "      <td>Wallet</td>\n",
       "      <td>Kid young court at.</td>\n",
       "      <td>4969.14</td>\n",
       "      <td>278.97</td>\n",
       "    </tr>\n",
       "    <tr>\n",
       "      <th>2597</th>\n",
       "      <td>2024-12-24</td>\n",
       "      <td>Groceries</td>\n",
       "      <td>Credit Card</td>\n",
       "      <td>Four culture.</td>\n",
       "      <td>3798.84</td>\n",
       "      <td>0.00</td>\n",
       "    </tr>\n",
       "    <tr>\n",
       "      <th>2598</th>\n",
       "      <td>2024-12-03</td>\n",
       "      <td>Bills</td>\n",
       "      <td>UPI</td>\n",
       "      <td>Start fine until.</td>\n",
       "      <td>1929.66</td>\n",
       "      <td>0.00</td>\n",
       "    </tr>\n",
       "    <tr>\n",
       "      <th>2599</th>\n",
       "      <td>2024-12-14</td>\n",
       "      <td>Food</td>\n",
       "      <td>Credit Card</td>\n",
       "      <td>General radio.</td>\n",
       "      <td>3207.85</td>\n",
       "      <td>0.00</td>\n",
       "    </tr>\n",
       "  </tbody>\n",
       "</table>\n",
       "<p>24600 rows × 6 columns</p>\n",
       "</div>"
      ],
      "text/plain": [
       "            Date       Category Payment Mode          Description  \\\n",
       "0     2024-01-24          Bills         Cash  Magazine wall role.   \n",
       "1     2024-01-19           Food       Wallet       Whether first.   \n",
       "2     2024-01-08  Subscriptions         Cash  Ok result everyone.   \n",
       "3     2024-01-06          Gifts   Debit Card    Well decade fish.   \n",
       "4     2024-01-24          Gifts  Credit Card   Hold finish speak.   \n",
       "...          ...            ...          ...                  ...   \n",
       "2595  2024-12-19      Groceries  Credit Card   Stand color hotel.   \n",
       "2596  2024-12-19  Entertainment       Wallet  Kid young court at.   \n",
       "2597  2024-12-24      Groceries  Credit Card        Four culture.   \n",
       "2598  2024-12-03          Bills          UPI    Start fine until.   \n",
       "2599  2024-12-14           Food  Credit Card       General radio.   \n",
       "\n",
       "      Amount Paid  Cashback  \n",
       "0         1738.31      0.00  \n",
       "1         4377.10      0.00  \n",
       "2         3159.54      0.00  \n",
       "3         2312.49      0.00  \n",
       "4         1021.79      0.00  \n",
       "...           ...       ...  \n",
       "2595      2272.34      0.00  \n",
       "2596      4969.14    278.97  \n",
       "2597      3798.84      0.00  \n",
       "2598      1929.66      0.00  \n",
       "2599      3207.85      0.00  \n",
       "\n",
       "[24600 rows x 6 columns]"
      ]
     },
     "execution_count": 17,
     "metadata": {},
     "output_type": "execute_result"
    }
   ],
   "source": [
    "overall_data"
   ]
  },
  {
   "cell_type": "markdown",
   "metadata": {},
   "source": [
    "Exporting data to csv"
   ]
  },
  {
   "cell_type": "code",
   "execution_count": 16,
   "metadata": {},
   "outputs": [],
   "source": [
    "overall_data.to_csv('OverallExpenses.csv', index=False)"
   ]
  },
  {
   "cell_type": "markdown",
   "metadata": {},
   "source": [
    "Connecting to a database"
   ]
  },
  {
   "cell_type": "code",
   "execution_count": 4,
   "metadata": {},
   "outputs": [],
   "source": [
    "import mysql.connector\n",
    "\n",
    "# Connect to MySQL\n",
    "conn = mysql.connector.connect(\n",
    "    host=\"localhost\",        \n",
    "    user=\"root\",             \n",
    "    password=\"1379\",  \n",
    ")\n",
    "\n",
    "# Create a cursor object\n",
    "cursor = conn.cursor()\n",
    "\n",
    "# If the database does not exist, create it\n",
    "cursor.execute(\"CREATE DATABASE IF NOT EXISTS expense_tracker\")\n",
    "cursor.execute(\"USE expense_tracker\")\n"
   ]
  },
  {
   "cell_type": "markdown",
   "metadata": {},
   "source": [
    "Creating a table"
   ]
  },
  {
   "cell_type": "code",
   "execution_count": 5,
   "metadata": {},
   "outputs": [],
   "source": [
    "# Create the \"expenses_data\" table\n",
    "cursor.execute('''\n",
    "CREATE TABLE IF NOT EXISTS expenses_data (\n",
    "    id INT AUTO_INCREMENT PRIMARY KEY,\n",
    "    date DATE,\n",
    "    category VARCHAR(50),\n",
    "    payment_mode VARCHAR(20),\n",
    "    description VARCHAR(255),\n",
    "    amount_paid DECIMAL(10, 2),\n",
    "    cashback DECIMAL(10, 2)\n",
    ")\n",
    "''')\n"
   ]
  },
  {
   "cell_type": "markdown",
   "metadata": {},
   "source": [
    "Loading data into the table"
   ]
  },
  {
   "cell_type": "code",
   "execution_count": 7,
   "metadata": {},
   "outputs": [],
   "source": [
    "import pandas as pd\n",
    "\n",
    "# Read the simulated CSV data\n",
    "data = pd.read_csv(\"OverallExpenses.csv\")\n",
    "\n",
    "# Insert data into MySQL\n",
    "for index, row in data.iterrows():\n",
    "    sql = '''\n",
    "    INSERT INTO expenses_data (date, category, payment_mode, description, amount_paid, cashback)\n",
    "    VALUES (%s, %s, %s, %s, %s, %s)\n",
    "    '''\n",
    "    values = (\n",
    "        row['Date'], row['Category'], row['Payment Mode'],\n",
    "        row['Description'], row['Amount Paid'], row['Cashback']\n",
    "    )\n",
    "    cursor.execute(sql, values)\n",
    "\n",
    "# Commit the changes\n",
    "conn.commit()\n"
   ]
  },
  {
   "cell_type": "markdown",
   "metadata": {},
   "source": [
    "Checking the existence of data"
   ]
  },
  {
   "cell_type": "code",
   "execution_count": 9,
   "metadata": {},
   "outputs": [
    {
     "name": "stdout",
     "output_type": "stream",
     "text": [
      "(1, datetime.date(2024, 1, 24), 'Bills', 'Cash', 'Magazine wall role.', Decimal('1738.31'), Decimal('0.00'))\n",
      "(2, datetime.date(2024, 1, 19), 'Food', 'Wallet', 'Whether first.', Decimal('4377.10'), Decimal('0.00'))\n",
      "(3, datetime.date(2024, 1, 8), 'Subscriptions', 'Cash', 'Ok result everyone.', Decimal('3159.54'), Decimal('0.00'))\n",
      "(4, datetime.date(2024, 1, 6), 'Gifts', 'Debit Card', 'Well decade fish.', Decimal('2312.49'), Decimal('0.00'))\n",
      "(5, datetime.date(2024, 1, 24), 'Gifts', 'Credit Card', 'Hold finish speak.', Decimal('1021.79'), Decimal('0.00'))\n"
     ]
    }
   ],
   "source": [
    "# Query to check the first 5 rows\n",
    "cursor.execute(\"SELECT * FROM expenses_data LIMIT 5\")\n",
    "rows = cursor.fetchall()\n",
    "\n",
    "# Print the results\n",
    "for row in rows:\n",
    "    print(row)\n"
   ]
  },
  {
   "cell_type": "code",
   "execution_count": 10,
   "metadata": {},
   "outputs": [],
   "source": [
    "#Closing the connection\n",
    "# Close the cursor and connection\n",
    "cursor.close()\n",
    "conn.close()\n"
   ]
  },
  {
   "cell_type": "markdown",
   "metadata": {},
   "source": [
    "Importing data from csv"
   ]
  },
  {
   "cell_type": "code",
   "execution_count": 13,
   "metadata": {},
   "outputs": [],
   "source": [
    "df = pd.read_csv('OverallExpenses.csv')"
   ]
  },
  {
   "cell_type": "code",
   "execution_count": 14,
   "metadata": {},
   "outputs": [
    {
     "data": {
      "text/html": [
       "<div>\n",
       "<style scoped>\n",
       "    .dataframe tbody tr th:only-of-type {\n",
       "        vertical-align: middle;\n",
       "    }\n",
       "\n",
       "    .dataframe tbody tr th {\n",
       "        vertical-align: top;\n",
       "    }\n",
       "\n",
       "    .dataframe thead th {\n",
       "        text-align: right;\n",
       "    }\n",
       "</style>\n",
       "<table border=\"1\" class=\"dataframe\">\n",
       "  <thead>\n",
       "    <tr style=\"text-align: right;\">\n",
       "      <th></th>\n",
       "      <th>Date</th>\n",
       "      <th>Category</th>\n",
       "      <th>Payment Mode</th>\n",
       "      <th>Description</th>\n",
       "      <th>Amount Paid</th>\n",
       "      <th>Cashback</th>\n",
       "    </tr>\n",
       "  </thead>\n",
       "  <tbody>\n",
       "    <tr>\n",
       "      <th>0</th>\n",
       "      <td>2024-01-24</td>\n",
       "      <td>Bills</td>\n",
       "      <td>Cash</td>\n",
       "      <td>Magazine wall role.</td>\n",
       "      <td>1738.31</td>\n",
       "      <td>0.00</td>\n",
       "    </tr>\n",
       "    <tr>\n",
       "      <th>1</th>\n",
       "      <td>2024-01-19</td>\n",
       "      <td>Food</td>\n",
       "      <td>Wallet</td>\n",
       "      <td>Whether first.</td>\n",
       "      <td>4377.10</td>\n",
       "      <td>0.00</td>\n",
       "    </tr>\n",
       "    <tr>\n",
       "      <th>2</th>\n",
       "      <td>2024-01-08</td>\n",
       "      <td>Subscriptions</td>\n",
       "      <td>Cash</td>\n",
       "      <td>Ok result everyone.</td>\n",
       "      <td>3159.54</td>\n",
       "      <td>0.00</td>\n",
       "    </tr>\n",
       "    <tr>\n",
       "      <th>3</th>\n",
       "      <td>2024-01-06</td>\n",
       "      <td>Gifts</td>\n",
       "      <td>Debit Card</td>\n",
       "      <td>Well decade fish.</td>\n",
       "      <td>2312.49</td>\n",
       "      <td>0.00</td>\n",
       "    </tr>\n",
       "    <tr>\n",
       "      <th>4</th>\n",
       "      <td>2024-01-24</td>\n",
       "      <td>Gifts</td>\n",
       "      <td>Credit Card</td>\n",
       "      <td>Hold finish speak.</td>\n",
       "      <td>1021.79</td>\n",
       "      <td>0.00</td>\n",
       "    </tr>\n",
       "    <tr>\n",
       "      <th>...</th>\n",
       "      <td>...</td>\n",
       "      <td>...</td>\n",
       "      <td>...</td>\n",
       "      <td>...</td>\n",
       "      <td>...</td>\n",
       "      <td>...</td>\n",
       "    </tr>\n",
       "    <tr>\n",
       "      <th>24595</th>\n",
       "      <td>2024-12-19</td>\n",
       "      <td>Groceries</td>\n",
       "      <td>Credit Card</td>\n",
       "      <td>Stand color hotel.</td>\n",
       "      <td>2272.34</td>\n",
       "      <td>0.00</td>\n",
       "    </tr>\n",
       "    <tr>\n",
       "      <th>24596</th>\n",
       "      <td>2024-12-19</td>\n",
       "      <td>Entertainment</td>\n",
       "      <td>Wallet</td>\n",
       "      <td>Kid young court at.</td>\n",
       "      <td>4969.14</td>\n",
       "      <td>278.97</td>\n",
       "    </tr>\n",
       "    <tr>\n",
       "      <th>24597</th>\n",
       "      <td>2024-12-24</td>\n",
       "      <td>Groceries</td>\n",
       "      <td>Credit Card</td>\n",
       "      <td>Four culture.</td>\n",
       "      <td>3798.84</td>\n",
       "      <td>0.00</td>\n",
       "    </tr>\n",
       "    <tr>\n",
       "      <th>24598</th>\n",
       "      <td>2024-12-03</td>\n",
       "      <td>Bills</td>\n",
       "      <td>UPI</td>\n",
       "      <td>Start fine until.</td>\n",
       "      <td>1929.66</td>\n",
       "      <td>0.00</td>\n",
       "    </tr>\n",
       "    <tr>\n",
       "      <th>24599</th>\n",
       "      <td>2024-12-14</td>\n",
       "      <td>Food</td>\n",
       "      <td>Credit Card</td>\n",
       "      <td>General radio.</td>\n",
       "      <td>3207.85</td>\n",
       "      <td>0.00</td>\n",
       "    </tr>\n",
       "  </tbody>\n",
       "</table>\n",
       "<p>24600 rows × 6 columns</p>\n",
       "</div>"
      ],
      "text/plain": [
       "             Date       Category Payment Mode          Description  \\\n",
       "0      2024-01-24          Bills         Cash  Magazine wall role.   \n",
       "1      2024-01-19           Food       Wallet       Whether first.   \n",
       "2      2024-01-08  Subscriptions         Cash  Ok result everyone.   \n",
       "3      2024-01-06          Gifts   Debit Card    Well decade fish.   \n",
       "4      2024-01-24          Gifts  Credit Card   Hold finish speak.   \n",
       "...           ...            ...          ...                  ...   \n",
       "24595  2024-12-19      Groceries  Credit Card   Stand color hotel.   \n",
       "24596  2024-12-19  Entertainment       Wallet  Kid young court at.   \n",
       "24597  2024-12-24      Groceries  Credit Card        Four culture.   \n",
       "24598  2024-12-03          Bills          UPI    Start fine until.   \n",
       "24599  2024-12-14           Food  Credit Card       General radio.   \n",
       "\n",
       "       Amount Paid  Cashback  \n",
       "0          1738.31      0.00  \n",
       "1          4377.10      0.00  \n",
       "2          3159.54      0.00  \n",
       "3          2312.49      0.00  \n",
       "4          1021.79      0.00  \n",
       "...            ...       ...  \n",
       "24595      2272.34      0.00  \n",
       "24596      4969.14    278.97  \n",
       "24597      3798.84      0.00  \n",
       "24598      1929.66      0.00  \n",
       "24599      3207.85      0.00  \n",
       "\n",
       "[24600 rows x 6 columns]"
      ]
     },
     "execution_count": 14,
     "metadata": {},
     "output_type": "execute_result"
    }
   ],
   "source": [
    "df"
   ]
  },
  {
   "cell_type": "markdown",
   "metadata": {},
   "source": [
    "Visualizing the data"
   ]
  },
  {
   "cell_type": "code",
   "execution_count": 17,
   "metadata": {},
   "outputs": [
    {
     "name": "stderr",
     "output_type": "stream",
     "text": [
      "C:\\Users\\gokul\\AppData\\Local\\Temp\\ipykernel_23152\\2909784187.py:6: FutureWarning: \n",
      "\n",
      "Passing `palette` without assigning `hue` is deprecated and will be removed in v0.14.0. Assign the `y` variable to `hue` and set `legend=False` for the same effect.\n",
      "\n",
      "  sns.barplot(x=\"Amount Paid\", y=\"Category\", data=df, palette=\"viridis\")\n"
     ]
    },
    {
     "data": {
      "image/png": "[encoded data removed]",
      "text/plain": [
       "<Figure size 1000x600 with 1 Axes>"
      ]
     },
     "metadata": {},
     "output_type": "display_data"
    }
   ],
   "source": [
    "import matplotlib.pyplot as plt\n",
    "import seaborn as sns\n",
    "\n",
    "# Visualize the total amount spent by category\n",
    "plt.figure(figsize=(10, 6))\n",
    "sns.barplot(x=\"Amount Paid\", y=\"Category\", data=df, palette=\"viridis\")\n",
    "plt.title(\"Total Amount Spent in Each Category\")\n",
    "plt.xlabel(\"Total Spent (₹)\")\n",
    "plt.ylabel(\"Category\")\n",
    "plt.tight_layout()\n",
    "plt.show()\n"
   ]
  },
  {
   "cell_type": "markdown",
   "metadata": {},
   "source": []
  }
 ],
 "metadata": {
  "kernelspec": {
   "display_name": "Python 3",
   "language": "python",
   "name": "python3"
  },
  "language_info": {
   "codemirror_mode": {
    "name": "ipython",
    "version": 3
   },
   "file_extension": ".py",
   "mimetype": "text/x-python",
   "name": "python",
   "nbconvert_exporter": "python",
   "pygments_lexer": "ipython3",
   "version": "3.12.4"
  }
 },
 "nbformat": 4,
 "nbformat_minor": 2
}
